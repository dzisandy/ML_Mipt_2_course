{
 "cells": [
  {
   "cell_type": "code",
   "execution_count": 61,
   "metadata": {},
   "outputs": [],
   "source": [
    "from sklearn import ensemble, cross_validation, learning_curve, metrics, datasets, model_selection\n",
    "from sklearn.model_selection import cross_val_score\n",
    "from sklearn.naive_bayes import BernoulliNB, MultinomialNB, GaussianNB\n",
    "import numpy as np\n",
    "import pandas as pd"
   ]
  },
  {
   "cell_type": "code",
   "execution_count": 62,
   "metadata": {
    "collapsed": true
   },
   "outputs": [],
   "source": [
    "def write_answer_3(ans1, ans2):\n",
    "    auc = (str(ans1) +\" \"+ str(ans2))\n",
    "    with open(\"bayes3.txt\", \"w\") as fout:\n",
    "        fout.write(str(auc))\n",
    "def write_answer_2(ans):\n",
    "    with open(\"bayes2.txt\", \"w\") as fout:\n",
    "        fout.write(str(ans))\n",
    "def write_answer_1(ans):\n",
    "    with open(\"bayes1.txt\", \"w\") as fout:\n",
    "        fout.write(str(ans))"
   ]
  },
  {
   "cell_type": "code",
   "execution_count": 63,
   "metadata": {
    "collapsed": true
   },
   "outputs": [],
   "source": [
    "digits = datasets.load_digits()\n",
    "breast_cancer = datasets.load_breast_cancer()"
   ]
  },
  {
   "cell_type": "code",
   "execution_count": 64,
   "metadata": {
    "collapsed": true
   },
   "outputs": [],
   "source": [
    "clf1 = BernoulliNB()\n",
    "clf2 = MultinomialNB()\n",
    "clf3 = GaussianNB()"
   ]
  },
  {
   "cell_type": "markdown",
   "metadata": {},
   "source": [
    "Для dataset'а digits:"
   ]
  },
  {
   "cell_type": "code",
   "execution_count": 65,
   "metadata": {},
   "outputs": [
    {
     "name": "stdout",
     "output_type": "stream",
     "text": [
      "0.831855746495 0.88193962163 0.810353758357\n"
     ]
    }
   ],
   "source": [
    "cv1 = cross_val_score(clf1, digits.data, digits.target, cv=10).mean()\n",
    "cv2 = cross_val_score(clf2, digits.data, digits.target, cv=10).mean()\n",
    "cv3 = cross_val_score(clf3, digits.data, digits.target, cv=10).mean()\n",
    "print cv1, cv2, cv3"
   ]
  },
  {
   "cell_type": "code",
   "execution_count": 66,
   "metadata": {},
   "outputs": [
    {
     "name": "stdout",
     "output_type": "stream",
     "text": [
      "0.88193962163\n"
     ]
    }
   ],
   "source": [
    "c = [cv1,cv2,cv3]\n",
    "print max(c)\n",
    "write_answer_2(max(c))"
   ]
  },
  {
   "cell_type": "markdown",
   "metadata": {},
   "source": [
    "Для dataset'а breast_cancer:"
   ]
  },
  {
   "cell_type": "code",
   "execution_count": 67,
   "metadata": {},
   "outputs": [
    {
     "name": "stdout",
     "output_type": "stream",
     "text": [
      "0.627427404719 0.892934923516 0.938679673321\n"
     ]
    }
   ],
   "source": [
    "cv1 = cross_val_score(clf1, breast_cancer.data, breast_cancer.target, cv=10).mean()\n",
    "cv2 = cross_val_score(clf2, breast_cancer.data, breast_cancer.target, cv=10).mean()\n",
    "cv3 = cross_val_score(clf3, breast_cancer.data, breast_cancer.target, cv=10).mean()\n",
    "print cv1, cv2, cv3"
   ]
  },
  {
   "cell_type": "code",
   "execution_count": 68,
   "metadata": {},
   "outputs": [
    {
     "name": "stdout",
     "output_type": "stream",
     "text": [
      "0.938679673321\n"
     ]
    }
   ],
   "source": [
    "c = [cv1,cv2,cv3]\n",
    "print max(c)\n",
    "write_answer_1(max(c))"
   ]
  },
  {
   "cell_type": "code",
   "execution_count": 69,
   "metadata": {
    "collapsed": true
   },
   "outputs": [],
   "source": [
    "write_answer_3(3, 4)"
   ]
  }
 ],
 "metadata": {
  "kernelspec": {
   "display_name": "Python 2",
   "language": "python",
   "name": "python2"
  },
  "language_info": {
   "codemirror_mode": {
    "name": "ipython",
    "version": 2
   },
   "file_extension": ".py",
   "mimetype": "text/x-python",
   "name": "python",
   "nbconvert_exporter": "python",
   "pygments_lexer": "ipython2",
   "version": "2.7.14"
  }
 },
 "nbformat": 4,
 "nbformat_minor": 2
}
